{
 "cells": [
  {
   "cell_type": "code",
   "execution_count": 76,
   "metadata": {},
   "outputs": [],
   "source": [
    "\"\"\"\n",
    "把方形图片做不同程度的高斯模糊\n",
    "\"\"\"\n",
    "\n",
    "import os\n",
    "import cv2\n",
    "\n",
    "\n",
    "input_img_dir = \".\\\\flickr30k_squared\"\n",
    "output_img_dir = \".\\\\flickr30k_blured\"\n",
    "\n",
    "\n",
    "\n",
    "\n",
    "for i in range(31461):\n",
    "    input_img_path = os.path.join(input_img_dir,\"%d.jpg\" % i)\n",
    "    img = cv2.imread(input_img_path,1)\n",
    "    out_put_path = os.path.join(output_img_dir, \"%d.jpg\" % i)\n",
    "    \n",
    "    if i>=0 and i<3000:\n",
    "        img = cv2.GaussianBlur(img,(3,3),1)\n",
    "    if i>=3000 and i<6000:\n",
    "        img = cv2.GaussianBlur(img,(3,3),1.5)\n",
    "    if i>=6000 and i<9000:\n",
    "        img = cv2.GaussianBlur(img,(3,3),2)\n",
    "    if i>=9000 and i<12000:\n",
    "        img = cv2.GaussianBlur(img,(3,3),2.5)\n",
    "    if i>=12000 and i<15000:\n",
    "        img = cv2.GaussianBlur(img,(3,3),3)\n",
    "    if i>=15000 and i<18000:\n",
    "        img = cv2.GaussianBlur(img,(3,3),3.5)\n",
    "    if i>=18000 and i<21000:\n",
    "        img = cv2.GaussianBlur(img,(5,5),1)\n",
    "    if i>=21000 and i<24000:\n",
    "        img = cv2.GaussianBlur(img,(5,5),1.5)\n",
    "    if i>=24000 and i<27000:\n",
    "        img = cv2.GaussianBlur(img,(5,5),2)        \n",
    "    if i>=27000 and i<30000:\n",
    "        img = cv2.GaussianBlur(img,(7,7),1)\n",
    "    if i>=30000:\n",
    "        img = img\n",
    "    cv2.imwrite(out_put_path,img)"
   ]
  },
  {
   "cell_type": "code",
   "execution_count": null,
   "metadata": {},
   "outputs": [],
   "source": []
  }
 ],
 "metadata": {
  "kernelspec": {
   "display_name": "Python 3",
   "language": "python",
   "name": "python3"
  },
  "language_info": {
   "codemirror_mode": {
    "name": "ipython",
    "version": 3
   },
   "file_extension": ".py",
   "mimetype": "text/x-python",
   "name": "python",
   "nbconvert_exporter": "python",
   "pygments_lexer": "ipython3",
   "version": "3.6.5"
  }
 },
 "nbformat": 4,
 "nbformat_minor": 2
}
