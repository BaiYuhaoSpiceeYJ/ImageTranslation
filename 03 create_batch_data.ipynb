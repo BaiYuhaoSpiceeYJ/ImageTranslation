{
 "cells": [
  {
   "cell_type": "code",
   "execution_count": 41,
   "metadata": {},
   "outputs": [],
   "source": [
    "import os\n",
    "import cv2\n",
    "import numpy as np\n",
    "\n",
    "class Image_set:\n",
    "    def __init__(self):\n",
    "        self.num_data = 31461\n",
    "        self.squared_img_path = \".\\\\flickr30k_squared\"\n",
    "        self.blured_img_path = \".\\\\flickr30k_blured\"\n",
    "        self.indicator = 0\n",
    "        self.index = [i for i in range(31461)]\n",
    "        self.index = np.random.permutation(self.index)\n",
    "        \n",
    "    def next_batch(self,batch_size):\n",
    "        end_indicator = self.indicator + batch_size\n",
    "        if end_indicator >= self.num_data:\n",
    "            self.index = np.random.permutation(self.index)\n",
    "            self.indicator = 0\n",
    "            end_indicator = self.indicator + batch_size\n",
    "        assert end_indicator < self.num_data\n",
    "        \n",
    "        \n",
    "        batch_img_index = self.index[self.indicator: end_indicator]\n",
    "        batch_squared_img = []\n",
    "        batch_blured_img = []\n",
    "        \n",
    "        for img_index in batch_img_index:\n",
    "            squared_img_path = os.path.join(self.squared_img_path,\"%d.jpg\" % img_index)\n",
    "            blured_img_path = os.path.join(self.blured_img_path,\"%d.jpg\" % img_index)\n",
    "            \n",
    "            squared_img = np.array(cv2.imread(squared_img_path,1))\n",
    "            blured_img = np.array(cv2.imread(blured_img_path,1))\n",
    "            \n",
    "            batch_squared_img.append(squared_img)\n",
    "            batch_blured_img.append(blured_img)\n",
    "        \n",
    "        self.indicator = end_indicator\n",
    "        return batch_squared_img,batch_blured_img\n",
    "\n"
   ]
  },
  {
   "cell_type": "code",
   "execution_count": null,
   "metadata": {},
   "outputs": [],
   "source": []
  },
  {
   "cell_type": "code",
   "execution_count": null,
   "metadata": {},
   "outputs": [],
   "source": []
  }
 ],
 "metadata": {
  "kernelspec": {
   "display_name": "Python 3",
   "language": "python",
   "name": "python3"
  },
  "language_info": {
   "codemirror_mode": {
    "name": "ipython",
    "version": 3
   },
   "file_extension": ".py",
   "mimetype": "text/x-python",
   "name": "python",
   "nbconvert_exporter": "python",
   "pygments_lexer": "ipython3",
   "version": "3.6.5"
  }
 },
 "nbformat": 4,
 "nbformat_minor": 2
}
